{
 "cells": [
  {
   "cell_type": "markdown",
   "metadata": {},
   "source": [
    "# Motif analysis #"
   ]
  },
  {
   "cell_type": "markdown",
   "metadata": {},
   "source": [
    "This notebook aims to check motifs for different a2q"
   ]
  },
  {
   "cell_type": "code",
   "execution_count": 2,
   "metadata": {},
   "outputs": [],
   "source": [
    "import matplotlib\n",
    "import function as fn\n",
    "from motifs.temporal_motif_analysis import Algorithm"
   ]
  },
  {
   "cell_type": "code",
   "execution_count": 3,
   "metadata": {},
   "outputs": [],
   "source": [
    "# general settings for charts\n",
    "font = {'family': 'normal',\n",
    "        'weight': 'bold',\n",
    "        'size': 22}\n",
    "matplotlib.rc('font', **font)\n",
    "\n",
    "main_color = '#0000b3'\n",
    "main_color2 = '#b30000'\n",
    "secondary_color = '#b3b3ff'"
   ]
  },
  {
   "cell_type": "code",
   "execution_count": 6,
   "metadata": {},
   "outputs": [],
   "source": [
    "dataset_options = {\n",
    "    0: 'data/mathoverflow/sx-mathoverflow-a2q.txt',\n",
    "    1: 'data/superuser/sx-superuser-a2q.txt',\n",
    "    2: 'data/askubintu/sx-askubintu-a2q.txt',\n",
    "}"
   ]
  },
  {
   "cell_type": "code",
   "execution_count": null,
   "metadata": {},
   "outputs": [
    {
     "name": "stdout",
     "output_type": "stream",
     "text": [
      "44114\n",
      "i=3 j=0{'S3': 1, 'S4': 0}\n",
      "i=4 j=0{'S3': 1, 'S4': 0}\n",
      "i=5 j=0{'S3': 1, 'S4': 0}\n",
      "i=6 j=0{'S3': 1, 'S4': 0}\n"
     ]
    }
   ],
   "source": [
    "for j in range(3):\n",
    "    nodes_a2q, edges_per_t_a2q = fn.read_graph_from_file(dataset_options[j])\n",
    "    edges_per_t_hour = fn.aggregate_edges_by_granularity(edges_per_t_a2q, 'hour')\n",
    "\n",
    "    algorithm = Algorithm()\n",
    "    edges = [e[0] for e in edges_per_t_hour.values()]\n",
    "    times = []\n",
    "    for t in edges_per_t_hour.keys():\n",
    "        for elem in edges_per_t_hour[t]:\n",
    "            times.append(int(t))\n",
    "    print(len(edges))\n",
    "    for i in range(3,10):\n",
    "        print(\"i=\" + str(i) + \" j=\" + str(j) + str(algorithm.main_algorithm(edges, times, delta=i)))\n"
   ]
  }
 ],
 "metadata": {
  "kernelspec": {
   "display_name": "Python 3",
   "language": "python",
   "name": "python3"
  },
  "language_info": {
   "codemirror_mode": {
    "name": "ipython",
    "version": 3
   },
   "file_extension": ".py",
   "mimetype": "text/x-python",
   "name": "python",
   "nbconvert_exporter": "python",
   "pygments_lexer": "ipython3",
   "version": "3.6.3"
  }
 },
 "nbformat": 4,
 "nbformat_minor": 2
}
