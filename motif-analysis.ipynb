{
 "cells": [
  {
   "cell_type": "markdown",
   "metadata": {},
   "source": [
    "# Motif analysis #"
   ]
  },
  {
   "cell_type": "markdown",
   "metadata": {},
   "source": [
    "This notebook aims to check motifs for different a2q"
   ]
  },
  {
   "cell_type": "code",
   "execution_count": 2,
   "metadata": {},
   "outputs": [],
   "source": [
    "import matplotlib\n",
    "import function as fn\n",
    "from motifs.temporal_motif_analysis import Algorithm"
   ]
  },
  {
   "cell_type": "code",
   "execution_count": 3,
   "metadata": {},
   "outputs": [],
   "source": [
    "# general settings for charts\n",
    "font = {'family': 'normal',\n",
    "        'weight': 'bold',\n",
    "        'size': 22}\n",
    "matplotlib.rc('font', **font)\n",
    "\n",
    "main_color = '#0000b3'\n",
    "main_color2 = '#b30000'\n",
    "secondary_color = '#b3b3ff'"
   ]
  },
  {
   "cell_type": "code",
   "execution_count": 11,
   "metadata": {},
   "outputs": [],
   "source": [
    "dataset_options = {\n",
    "    0: 'data/mathoverflow/sx-mathoverflow-a2q.txt',\n",
    "    1: 'data/superuser/sx-superuser-a2q.txt',\n",
    "    2: 'data/askubuntu/sx-askubuntu-a2q.txt',\n",
    "}"
   ]
  },
  {
   "cell_type": "code",
   "execution_count": 8,
   "metadata": {},
   "outputs": [
    {
     "name": "stdout",
     "output_type": "stream",
     "text": [
      "44114\n",
      "i=3 j=0{'S3': 1, 'S4': 0}\n",
      "i=4 j=0{'S3': 1, 'S4': 0}\n",
      "i=5 j=0{'S3': 1, 'S4': 0}\n",
      "i=6 j=0{'S3': 1, 'S4': 0}\n",
      "i=7 j=0{'S3': 1, 'S4': 0}\n",
      "i=8 j=0{'S3': 1, 'S4': 0}\n",
      "i=9 j=0{'S3': 1, 'S4': 0}\n",
      "58141\n",
      "i=3 j=1{'S3': 0, 'S4': 0}\n",
      "i=4 j=1{'S3': 0, 'S4': 0}\n",
      "i=5 j=1{'S3': 0, 'S4': 0}\n",
      "i=6 j=1{'S3': 0, 'S4': 0}\n",
      "i=7 j=1{'S3': 0, 'S4': 0}\n",
      "i=8 j=1{'S3': 0, 'S4': 0}\n",
      "i=9 j=1{'S3': 0, 'S4': 0}\n"
     ]
    },
    {
     "ename": "FileNotFoundError",
     "evalue": "[Errno 2] No such file or directory: 'data/askubintu/sx-askubintu-a2q.txt'",
     "traceback": [
      "\u001b[0;31m---------------------------------------------------------------------------\u001b[0m",
      "\u001b[0;31mFileNotFoundError\u001b[0m                         Traceback (most recent call last)",
      "\u001b[0;32m<ipython-input-8-c7269d474d34>\u001b[0m in \u001b[0;36m<module>\u001b[0;34m\u001b[0m\n\u001b[1;32m      1\u001b[0m \u001b[0;32mfor\u001b[0m \u001b[0mj\u001b[0m \u001b[0;32min\u001b[0m \u001b[0mrange\u001b[0m\u001b[0;34m(\u001b[0m\u001b[0;36m3\u001b[0m\u001b[0;34m)\u001b[0m\u001b[0;34m:\u001b[0m\u001b[0;34m\u001b[0m\u001b[0m\n\u001b[0;32m----> 2\u001b[0;31m     \u001b[0mnodes_a2q\u001b[0m\u001b[0;34m,\u001b[0m \u001b[0medges_per_t_a2q\u001b[0m \u001b[0;34m=\u001b[0m \u001b[0mfn\u001b[0m\u001b[0;34m.\u001b[0m\u001b[0mread_graph_from_file\u001b[0m\u001b[0;34m(\u001b[0m\u001b[0mdataset_options\u001b[0m\u001b[0;34m[\u001b[0m\u001b[0mj\u001b[0m\u001b[0;34m]\u001b[0m\u001b[0;34m)\u001b[0m\u001b[0;34m\u001b[0m\u001b[0m\n\u001b[0m\u001b[1;32m      3\u001b[0m     \u001b[0medges_per_t_hour\u001b[0m \u001b[0;34m=\u001b[0m \u001b[0mfn\u001b[0m\u001b[0;34m.\u001b[0m\u001b[0maggregate_edges_by_granularity\u001b[0m\u001b[0;34m(\u001b[0m\u001b[0medges_per_t_a2q\u001b[0m\u001b[0;34m,\u001b[0m \u001b[0;34m'hour'\u001b[0m\u001b[0;34m)\u001b[0m\u001b[0;34m\u001b[0m\u001b[0m\n\u001b[1;32m      4\u001b[0m \u001b[0;34m\u001b[0m\u001b[0m\n\u001b[1;32m      5\u001b[0m     \u001b[0malgorithm\u001b[0m \u001b[0;34m=\u001b[0m \u001b[0mAlgorithm\u001b[0m\u001b[0;34m(\u001b[0m\u001b[0;34m)\u001b[0m\u001b[0;34m\u001b[0m\u001b[0m\n",
      "\u001b[0;32m~/Desktop/TU Delft/Q3&Q4/Modelling and Data Analysis in Complex Networks/final_project/function.py\u001b[0m in \u001b[0;36mread_graph_from_file\u001b[0;34m(path)\u001b[0m\n\u001b[1;32m     11\u001b[0m     \u001b[0medges_per_t\u001b[0m \u001b[0;34m=\u001b[0m \u001b[0;34m{\u001b[0m\u001b[0;34m}\u001b[0m\u001b[0;34m\u001b[0m\u001b[0m\n\u001b[1;32m     12\u001b[0m     \u001b[0mnodes\u001b[0m \u001b[0;34m=\u001b[0m \u001b[0;34m[\u001b[0m\u001b[0;34m]\u001b[0m\u001b[0;34m\u001b[0m\u001b[0m\n\u001b[0;32m---> 13\u001b[0;31m     \u001b[0;32mwith\u001b[0m \u001b[0mopen\u001b[0m\u001b[0;34m(\u001b[0m\u001b[0mpath\u001b[0m\u001b[0;34m)\u001b[0m \u001b[0;32mas\u001b[0m \u001b[0mfile_handle\u001b[0m\u001b[0;34m:\u001b[0m\u001b[0;34m\u001b[0m\u001b[0m\n\u001b[0m\u001b[1;32m     14\u001b[0m         \u001b[0mcsv_reader\u001b[0m \u001b[0;34m=\u001b[0m \u001b[0mcsv\u001b[0m\u001b[0;34m.\u001b[0m\u001b[0mreader\u001b[0m\u001b[0;34m(\u001b[0m\u001b[0mfile_handle\u001b[0m\u001b[0;34m,\u001b[0m \u001b[0mdelimiter\u001b[0m \u001b[0;34m=\u001b[0m \u001b[0;34m' '\u001b[0m\u001b[0;34m)\u001b[0m\u001b[0;34m\u001b[0m\u001b[0m\n\u001b[1;32m     15\u001b[0m         \u001b[0;31m#next(csv_reader) # skipping the header\u001b[0m\u001b[0;34m\u001b[0m\u001b[0;34m\u001b[0m\u001b[0m\n",
      "\u001b[0;31mFileNotFoundError\u001b[0m: [Errno 2] No such file or directory: 'data/askubintu/sx-askubintu-a2q.txt'"
     ],
     "output_type": "error"
    }
   ],
   "source": [
    "for j in range(3):\n",
    "    nodes_a2q, edges_per_t_a2q = fn.read_graph_from_file(dataset_options[j])\n",
    "    edges_per_t_hour = fn.aggregate_edges_by_granularity(edges_per_t_a2q, 'hour')\n",
    "\n",
    "    algorithm = Algorithm()\n",
    "    edges = [e[0] for e in edges_per_t_hour.values()]\n",
    "    times = []\n",
    "    for t in edges_per_t_hour.keys():\n",
    "        for elem in edges_per_t_hour[t]:\n",
    "            times.append(int(t))\n",
    "    print(len(edges))\n",
    "    for i in range(3,10):\n",
    "        print(\"i=\" + str(i) + \" j=\" + str(j) + str(algorithm.main_algorithm(edges, times, delta=i)))\n"
   ]
  },
  {
   "cell_type": "code",
   "execution_count": 12,
   "metadata": {},
   "outputs": [
    {
     "name": "stdout",
     "output_type": "stream",
     "text": [
      "47246\n",
      "i=3 j=2{'S3': 1, 'S4': 0}\n",
      "i=4 j=2{'S3': 1, 'S4': 0}\n",
      "i=5 j=2{'S3': 1, 'S4': 0}\n",
      "i=6 j=2{'S3': 1, 'S4': 0}\n",
      "i=7 j=2{'S3': 1, 'S4': 0}\n",
      "i=8 j=2{'S3': 1, 'S4': 0}\n",
      "i=9 j=2{'S3': 1, 'S4': 0}\n"
     ]
    }
   ],
   "source": [
    "nodes_a2q, edges_per_t_a2q = fn.read_graph_from_file(dataset_options[2])\n",
    "edges_per_t_hour = fn.aggregate_edges_by_granularity(edges_per_t_a2q, 'hour')\n",
    "\n",
    "algorithm = Algorithm()\n",
    "edges = [e[0] for e in edges_per_t_hour.values()]\n",
    "times = []\n",
    "for t in edges_per_t_hour.keys():\n",
    "    for elem in edges_per_t_hour[t]:\n",
    "        times.append(int(t))\n",
    "print(len(edges))\n",
    "for i in range(3,10):\n",
    "    print(\"i=\" + str(i) + \" j=\" + str(j) + str(algorithm.main_algorithm(edges, times, delta=i)))"
   ]
  }
 ],
 "metadata": {
  "kernelspec": {
   "display_name": "Python 3",
   "language": "python",
   "name": "python3"
  },
  "language_info": {
   "codemirror_mode": {
    "name": "ipython",
    "version": 3
   },
   "file_extension": ".py",
   "mimetype": "text/x-python",
   "name": "python",
   "nbconvert_exporter": "python",
   "pygments_lexer": "ipython3",
   "version": "3.6.3"
  }
 },
 "nbformat": 4,
 "nbformat_minor": 2
}
